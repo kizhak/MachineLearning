{
 "cells": [
  {
   "cell_type": "code",
   "execution_count": 1,
   "metadata": {},
   "outputs": [],
   "source": [
    "import sklearn\n",
    "from sklearn.utils import shuffle\n",
    "from sklearn.neighbors import KNeighborsClassifier\n",
    "from sklearn import linear_model, preprocessing\n",
    "import pandas as pd\n",
    "import numpy as np"
   ]
  },
  {
   "cell_type": "code",
   "execution_count": 2,
   "metadata": {},
   "outputs": [],
   "source": [
    "data = pd.read_csv(\"car.data\", header=None, names=['Buying','Maint','Doors','Persons','Lug_boot','Safety','Class'])"
   ]
  },
  {
   "cell_type": "code",
   "execution_count": 3,
   "metadata": {},
   "outputs": [
    {
     "name": "stdout",
     "output_type": "stream",
     "text": [
      "  Buying  Maint Doors Persons Lug_boot Safety  Class\n",
      "0  vhigh  vhigh     2       2    small    low  unacc\n",
      "1  vhigh  vhigh     2       2    small    med  unacc\n",
      "2  vhigh  vhigh     2       2    small   high  unacc\n",
      "3  vhigh  vhigh     2       2      med    low  unacc\n",
      "4  vhigh  vhigh     2       2      med    med  unacc\n"
     ]
    }
   ],
   "source": [
    "print(data.head())"
   ]
  },
  {
   "cell_type": "code",
   "execution_count": 4,
   "metadata": {},
   "outputs": [],
   "source": [
    "le = preprocessing.LabelEncoder()"
   ]
  },
  {
   "cell_type": "code",
   "execution_count": 5,
   "metadata": {},
   "outputs": [],
   "source": [
    "# convert to numerical data set based on different types of attribute values\n",
    "buying = le.fit_transform(list(data[\"Buying\"]))\n",
    "maint = le.fit_transform(list(data[\"Maint\"]))\n",
    "doors = le.fit_transform(list(data[\"Doors\"]))\n",
    "persons = le.fit_transform(list(data[\"Persons\"]))\n",
    "lug_boot = le.fit_transform(list(data[\"Lug_boot\"]))\n",
    "safety = le.fit_transform(list(data[\"Safety\"]))\n",
    "cls = le.fit_transform(list(data[\"Class\"]))"
   ]
  },
  {
   "cell_type": "code",
   "execution_count": 6,
   "metadata": {},
   "outputs": [
    {
     "name": "stdout",
     "output_type": "stream",
     "text": [
      "[3 3 3 ... 1 1 1]\n"
     ]
    }
   ],
   "source": [
    "print(buying)"
   ]
  },
  {
   "cell_type": "code",
   "execution_count": 7,
   "metadata": {},
   "outputs": [
    {
     "name": "stdout",
     "output_type": "stream",
     "text": [
      "[0 0 0 ... 3 3 3]\n"
     ]
    }
   ],
   "source": [
    "print(doors)"
   ]
  },
  {
   "cell_type": "code",
   "execution_count": 8,
   "metadata": {},
   "outputs": [],
   "source": [
    "# combine all input variables to a single variable X\n",
    "X = list(zip(buying, maint, doors, persons, lug_boot, safety))\n",
    "y = list(cls)"
   ]
  },
  {
   "cell_type": "code",
   "execution_count": 9,
   "metadata": {},
   "outputs": [],
   "source": [
    "X_train, X_test, y_train, y_test = sklearn.model_selection.train_test_split(X, y, test_size = 0.1)"
   ]
  },
  {
   "cell_type": "code",
   "execution_count": 10,
   "metadata": {},
   "outputs": [],
   "source": [
    "model = KNeighborsClassifier(n_neighbors=11)"
   ]
  },
  {
   "cell_type": "code",
   "execution_count": 11,
   "metadata": {},
   "outputs": [
    {
     "data": {
      "text/plain": [
       "KNeighborsClassifier(n_neighbors=11)"
      ]
     },
     "execution_count": 11,
     "metadata": {},
     "output_type": "execute_result"
    }
   ],
   "source": [
    "model.fit(X_train, y_train)"
   ]
  },
  {
   "cell_type": "code",
   "execution_count": 12,
   "metadata": {},
   "outputs": [],
   "source": [
    "acc = model.score(X_test, y_test)"
   ]
  },
  {
   "cell_type": "code",
   "execution_count": 13,
   "metadata": {},
   "outputs": [
    {
     "name": "stdout",
     "output_type": "stream",
     "text": [
      "0.8959537572254336\n"
     ]
    }
   ],
   "source": [
    "print(acc)"
   ]
  },
  {
   "cell_type": "code",
   "execution_count": 14,
   "metadata": {},
   "outputs": [],
   "source": [
    "predicted = model.predict(X_test)"
   ]
  },
  {
   "cell_type": "code",
   "execution_count": 15,
   "metadata": {},
   "outputs": [],
   "source": [
    "# classes of output variable\n",
    "names = [\"unacc\", \"acc\", \"good\", \"v-good\"]"
   ]
  },
  {
   "cell_type": "code",
   "execution_count": 16,
   "metadata": {},
   "outputs": [
    {
     "name": "stdout",
     "output_type": "stream",
     "text": [
      "Predicted:  good Actual:  good\n",
      "Predicted:  good Actual:  good\n",
      "Predicted:  good Actual:  unacc\n",
      "Predicted:  unacc Actual:  unacc\n",
      "Predicted:  good Actual:  good\n",
      "Predicted:  unacc Actual:  unacc\n",
      "Predicted:  unacc Actual:  unacc\n",
      "Predicted:  acc Actual:  acc\n",
      "Predicted:  unacc Actual:  unacc\n",
      "Predicted:  good Actual:  good\n",
      "Predicted:  good Actual:  good\n",
      "Predicted:  good Actual:  good\n",
      "Predicted:  good Actual:  good\n",
      "Predicted:  unacc Actual:  unacc\n",
      "Predicted:  good Actual:  good\n",
      "Predicted:  v-good Actual:  unacc\n",
      "Predicted:  good Actual:  good\n",
      "Predicted:  good Actual:  good\n",
      "Predicted:  good Actual:  good\n",
      "Predicted:  good Actual:  good\n",
      "Predicted:  good Actual:  good\n",
      "Predicted:  good Actual:  good\n",
      "Predicted:  good Actual:  good\n",
      "Predicted:  good Actual:  good\n",
      "Predicted:  good Actual:  good\n",
      "Predicted:  good Actual:  good\n",
      "Predicted:  good Actual:  good\n",
      "Predicted:  good Actual:  good\n",
      "Predicted:  good Actual:  good\n",
      "Predicted:  good Actual:  good\n",
      "Predicted:  good Actual:  good\n",
      "Predicted:  good Actual:  good\n",
      "Predicted:  good Actual:  good\n",
      "Predicted:  good Actual:  unacc\n",
      "Predicted:  good Actual:  good\n",
      "Predicted:  good Actual:  good\n",
      "Predicted:  good Actual:  unacc\n",
      "Predicted:  good Actual:  good\n",
      "Predicted:  good Actual:  good\n",
      "Predicted:  good Actual:  good\n",
      "Predicted:  good Actual:  good\n",
      "Predicted:  good Actual:  good\n",
      "Predicted:  good Actual:  good\n",
      "Predicted:  v-good Actual:  unacc\n",
      "Predicted:  good Actual:  unacc\n",
      "Predicted:  good Actual:  unacc\n",
      "Predicted:  unacc Actual:  unacc\n",
      "Predicted:  good Actual:  good\n",
      "Predicted:  good Actual:  good\n",
      "Predicted:  unacc Actual:  acc\n",
      "Predicted:  unacc Actual:  unacc\n",
      "Predicted:  good Actual:  good\n",
      "Predicted:  good Actual:  good\n",
      "Predicted:  good Actual:  good\n",
      "Predicted:  good Actual:  good\n",
      "Predicted:  v-good Actual:  v-good\n",
      "Predicted:  unacc Actual:  unacc\n",
      "Predicted:  good Actual:  good\n",
      "Predicted:  good Actual:  good\n",
      "Predicted:  good Actual:  good\n",
      "Predicted:  good Actual:  good\n",
      "Predicted:  good Actual:  good\n",
      "Predicted:  good Actual:  good\n",
      "Predicted:  good Actual:  good\n",
      "Predicted:  good Actual:  good\n",
      "Predicted:  good Actual:  good\n",
      "Predicted:  good Actual:  unacc\n",
      "Predicted:  good Actual:  good\n",
      "Predicted:  good Actual:  good\n",
      "Predicted:  unacc Actual:  unacc\n",
      "Predicted:  good Actual:  good\n",
      "Predicted:  good Actual:  good\n",
      "Predicted:  good Actual:  good\n",
      "Predicted:  good Actual:  good\n",
      "Predicted:  good Actual:  good\n",
      "Predicted:  good Actual:  unacc\n",
      "Predicted:  good Actual:  good\n",
      "Predicted:  good Actual:  good\n",
      "Predicted:  v-good Actual:  v-good\n",
      "Predicted:  good Actual:  good\n",
      "Predicted:  acc Actual:  acc\n",
      "Predicted:  good Actual:  good\n",
      "Predicted:  good Actual:  good\n",
      "Predicted:  good Actual:  good\n",
      "Predicted:  good Actual:  good\n",
      "Predicted:  good Actual:  unacc\n",
      "Predicted:  good Actual:  good\n",
      "Predicted:  v-good Actual:  v-good\n",
      "Predicted:  unacc Actual:  acc\n",
      "Predicted:  unacc Actual:  unacc\n",
      "Predicted:  good Actual:  good\n",
      "Predicted:  unacc Actual:  unacc\n",
      "Predicted:  good Actual:  good\n",
      "Predicted:  unacc Actual:  acc\n",
      "Predicted:  unacc Actual:  unacc\n",
      "Predicted:  good Actual:  good\n",
      "Predicted:  good Actual:  good\n",
      "Predicted:  good Actual:  good\n",
      "Predicted:  good Actual:  good\n",
      "Predicted:  unacc Actual:  unacc\n",
      "Predicted:  good Actual:  good\n",
      "Predicted:  good Actual:  good\n",
      "Predicted:  good Actual:  good\n",
      "Predicted:  good Actual:  good\n",
      "Predicted:  unacc Actual:  unacc\n",
      "Predicted:  good Actual:  good\n",
      "Predicted:  good Actual:  unacc\n",
      "Predicted:  unacc Actual:  unacc\n",
      "Predicted:  good Actual:  good\n",
      "Predicted:  good Actual:  good\n",
      "Predicted:  good Actual:  good\n",
      "Predicted:  good Actual:  good\n",
      "Predicted:  unacc Actual:  unacc\n",
      "Predicted:  unacc Actual:  unacc\n",
      "Predicted:  good Actual:  good\n",
      "Predicted:  unacc Actual:  unacc\n",
      "Predicted:  v-good Actual:  v-good\n",
      "Predicted:  unacc Actual:  unacc\n",
      "Predicted:  acc Actual:  acc\n",
      "Predicted:  good Actual:  good\n",
      "Predicted:  good Actual:  good\n",
      "Predicted:  unacc Actual:  unacc\n",
      "Predicted:  good Actual:  good\n",
      "Predicted:  good Actual:  good\n",
      "Predicted:  good Actual:  good\n",
      "Predicted:  acc Actual:  acc\n",
      "Predicted:  good Actual:  good\n",
      "Predicted:  good Actual:  good\n",
      "Predicted:  unacc Actual:  unacc\n",
      "Predicted:  good Actual:  good\n",
      "Predicted:  acc Actual:  acc\n",
      "Predicted:  good Actual:  good\n",
      "Predicted:  good Actual:  good\n",
      "Predicted:  unacc Actual:  v-good\n",
      "Predicted:  good Actual:  good\n",
      "Predicted:  good Actual:  good\n",
      "Predicted:  unacc Actual:  unacc\n",
      "Predicted:  good Actual:  good\n",
      "Predicted:  good Actual:  good\n",
      "Predicted:  good Actual:  good\n",
      "Predicted:  v-good Actual:  v-good\n",
      "Predicted:  unacc Actual:  v-good\n",
      "Predicted:  good Actual:  good\n",
      "Predicted:  unacc Actual:  unacc\n",
      "Predicted:  good Actual:  good\n",
      "Predicted:  good Actual:  good\n",
      "Predicted:  good Actual:  good\n",
      "Predicted:  good Actual:  good\n",
      "Predicted:  good Actual:  good\n",
      "Predicted:  good Actual:  good\n",
      "Predicted:  good Actual:  good\n",
      "Predicted:  good Actual:  good\n",
      "Predicted:  good Actual:  good\n",
      "Predicted:  good Actual:  good\n",
      "Predicted:  good Actual:  unacc\n",
      "Predicted:  good Actual:  good\n",
      "Predicted:  good Actual:  good\n",
      "Predicted:  unacc Actual:  unacc\n",
      "Predicted:  good Actual:  good\n",
      "Predicted:  good Actual:  unacc\n",
      "Predicted:  unacc Actual:  unacc\n",
      "Predicted:  good Actual:  good\n",
      "Predicted:  good Actual:  good\n",
      "Predicted:  good Actual:  good\n",
      "Predicted:  good Actual:  good\n",
      "Predicted:  unacc Actual:  unacc\n",
      "Predicted:  good Actual:  good\n",
      "Predicted:  good Actual:  good\n",
      "Predicted:  good Actual:  good\n",
      "Predicted:  good Actual:  good\n",
      "Predicted:  good Actual:  good\n",
      "Predicted:  good Actual:  good\n",
      "Predicted:  good Actual:  good\n"
     ]
    }
   ],
   "source": [
    "for x in range(len(X_test)):\n",
    "    print(\"Predicted: \", names[predicted[x]], \"Actual: \", names[y_test[x]])"
   ]
  },
  {
   "cell_type": "code",
   "execution_count": null,
   "metadata": {},
   "outputs": [],
   "source": []
  }
 ],
 "metadata": {
  "kernelspec": {
   "display_name": "Python 3",
   "language": "python",
   "name": "python3"
  },
  "language_info": {
   "codemirror_mode": {
    "name": "ipython",
    "version": 3
   },
   "file_extension": ".py",
   "mimetype": "text/x-python",
   "name": "python",
   "nbconvert_exporter": "python",
   "pygments_lexer": "ipython3",
   "version": "3.7.7"
  }
 },
 "nbformat": 4,
 "nbformat_minor": 4
}
